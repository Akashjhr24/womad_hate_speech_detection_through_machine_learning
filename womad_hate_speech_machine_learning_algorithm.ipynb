{
 "cells": [
  {
   "cell_type": "code",
   "execution_count": 6,
   "metadata": {},
   "outputs": [
    {
     "name": "stderr",
     "output_type": "stream",
     "text": [
      "C:\\ProgramData\\Anaconda3\\lib\\site-packages\\sklearn\\linear_model\\logistic.py:433: FutureWarning: Default solver will be changed to 'lbfgs' in 0.22. Specify a solver to silence this warning.\n",
      "  FutureWarning)\n"
     ]
    },
    {
     "data": {
      "text/plain": [
       "0.8561832476661702"
      ]
     },
     "execution_count": 6,
     "metadata": {},
     "output_type": "execute_result"
    }
   ],
   "source": [
    "#TfidfVectorizer Logistic Regression\n",
    "import pandas as pd \n",
    "import numpy as np\n",
    "from sklearn.utils import shuffle\n",
    "from sklearn.model_selection import train_test_split\n",
    "from sklearn.feature_extraction.text import TfidfVectorizer\n",
    "from sklearn.linear_model import LogisticRegression\n",
    "from sklearn.metrics import roc_auc_score\n",
    "\n",
    "list = []\n",
    "normal_data = pd.read_csv(\"korean_sentence.csv\",encoding=\"ANSI\")\n",
    "for i in range(len(normal_data[\"문장\"])):\n",
    "    normal_data[\"문장\"][i]=normal_data[\"문장\"][i].replace(\"\\t\",\"\")\n",
    "for i in range(len(normal_data[\"문장\"])):\n",
    "    list.append(i)\n",
    "for l in range(len(list)):\n",
    "    list[l] = 0\n",
    "\n",
    "normal_data[\"혐오 여부\"]=list\n",
    "womad_data=pd.read_csv(\"womad_comment_train_data.csv\")\n",
    "womad_data[\"문장\"] = womad_data[\"댓글\"]\n",
    "list=[]\n",
    "for i in range(len(womad_data[\"문장\"])):\n",
    "    list.append(i)\n",
    "for l in range(len(list)):\n",
    "    list[l] = 1\n",
    "womad_data[\"혐오 여부\"]=list\n",
    "womad_data = womad_data.drop(['댓글','Unnamed: 0','level_0','Unnamed: 0.1','index','Unnamed: 0.1.1'],axis=1)\n",
    "train_data = shuffle(pd.concat([womad_data.sample(n=1000), normal_data])).reset_index(drop=True)\n",
    "hate_data = shuffle(pd.concat([womad_data, normal_data])).reset_index(drop=True)\n",
    "\n",
    "X_train,X_test,y_train,y_test = train_test_split(train_data[\"문장\"],train_data[\"혐오 여부\"],random_state=0)\n",
    "vect = TfidfVectorizer().fit(X_train)\n",
    "X_train_vectorized = vect.transform(X_train)\n",
    "\n",
    "model = LogisticRegression()\n",
    "model.fit(X_train_vectorized, y_train)\n",
    "\n",
    "feature_names = np.array(vect.get_feature_names())\n",
    "sorted_tfidf_index=model.coef_[0].argsort()\n",
    "\n",
    "predictions=model.predict(vect.transform(X_test))\n",
    "\n",
    "roc_auc_score(y_test, predictions)"
   ]
  },
  {
   "cell_type": "code",
   "execution_count": 3,
   "metadata": {},
   "outputs": [
    {
     "name": "stdout",
     "output_type": "stream",
     "text": [
      "한남충 개돼지 다 뒤지면 좋겠노 이기 ㅋㅋㅋㅋ\n",
      "혐오 발언\n"
     ]
    }
   ],
   "source": [
    "sentence = input() \n",
    "if model.predict(vect.transform([sentence]))==[1]:\n",
    "    print('혐오 발언')\n",
    "else:\n",
    "    print(\"정상 발언\")"
   ]
  }
 ],
 "metadata": {
  "kernelspec": {
   "display_name": "Python 3",
   "language": "python",
   "name": "python3"
  },
  "language_info": {
   "codemirror_mode": {
    "name": "ipython",
    "version": 3
   },
   "file_extension": ".py",
   "mimetype": "text/x-python",
   "name": "python",
   "nbconvert_exporter": "python",
   "pygments_lexer": "ipython3",
   "version": "3.6.8"
  }
 },
 "nbformat": 4,
 "nbformat_minor": 2
}
